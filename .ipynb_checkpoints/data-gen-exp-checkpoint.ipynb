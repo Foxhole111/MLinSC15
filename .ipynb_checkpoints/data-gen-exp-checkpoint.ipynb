{
 "cells": [
  {
   "cell_type": "code",
   "execution_count": 1,
   "metadata": {},
   "outputs": [],
   "source": [
    "import gym_unbalanced_disk\n",
    "import gym\n",
    "import numpy as np\n",
    "from matplotlib import pyplot as plt\n",
    "from tqdm.auto import tqdm #a neat progress bar"
   ]
  },
  {
   "cell_type": "code",
   "execution_count": 2,
   "metadata": {},
   "outputs": [
    {
     "name": "stdout",
     "output_type": "stream",
     "text": [
      "starting matlab engine...done\n",
      "connecting to experimental setup...done\n"
     ]
    }
   ],
   "source": [
    "env = gym_unbalanced_disk.UnbalancedDisk_exp(umax = 2.5,dt = 0.025)\n",
    "\n",
    "def get_exp(Nsamps,q,f0,umax=3.0,seed=46):\n",
    "    print(q,f0)\n",
    "    np.random.seed(seed)\n",
    "    from scipy import signal\n",
    "    u0 = np.random.uniform(-1,1,size=Nsamps)\n",
    "    if f0<1:\n",
    "        u1 = signal.lfilter(*signal.butter(6,f0),u0)\n",
    "    else:\n",
    "        u1 = u0\n",
    "    \n",
    "    u1 /= max(np.max(u1),-np.min(u1))\n",
    "    \n",
    "    return umax*abs(u1)**(1/q)*np.sign(u1) if np.isfinite(q) else umax*np.sign(u1)\n",
    "\n",
    "def apply_exp(ulist):\n",
    "    obs = env.reset()\n",
    "    ulist2 = []\n",
    "    ylist = []\n",
    "    for u in tqdm(ulist):\n",
    "        ylist.append(obs)\n",
    "        if obs[0]>np.pi*3/4: # a bit of a controller to restrict going over the top\n",
    "            u = -env.unwrapped.umax\n",
    "        if obs[0]<-np.pi*3/4:\n",
    "            u = env.unwrapped.umax\n",
    "        obs, reward, done, info = env.step(u)\n",
    "        ulist2.append(u)\n",
    "    env.reset()\n",
    "    return np.array(ylist), np.array(ulist2)"
   ]
  },
  {
   "cell_type": "code",
   "execution_count": 3,
   "metadata": {},
   "outputs": [
    {
     "name": "stdout",
     "output_type": "stream",
     "text": [
      "4 0.3\n"
     ]
    },
    {
     "data": {
      "application/vnd.jupyter.widget-view+json": {
       "model_id": "dee0beafa39b4182af32a33251f366a9",
       "version_major": 2,
       "version_minor": 0
      },
      "text/plain": [
       "HBox(children=(HTML(value=''), FloatProgress(value=0.0, max=10000.0), HTML(value='')))"
      ]
     },
     "metadata": {},
     "output_type": "display_data"
    },
    {
     "name": "stdout",
     "output_type": "stream",
     "text": [
      "\n"
     ]
    }
   ],
   "source": [
    "ulist = get_exp(10000,q=4,f0=0.3,umax=2.5)\n",
    "ylist,ulist = apply_exp(ulist)\n",
    "\n",
    "from scipy.io import savemat\n",
    "\n",
    "save_dic = dict(ulist=ulist,ylist=ylist)\n",
    "\n",
    "np.savez('UnbalancedDisk-exp-all-data-Maarten.npz',**save_dic)\n",
    "savemat('UnbalancedDisk-exp-all-data-Maarten.mat', save_dic)\n",
    "save_dic = dict(ulist=ulist,ylist=ylist[:,0])\n",
    "\n",
    "np.savez('UnbalancedDisk-exp-data.npz-Maarten',**save_dic)\n",
    "savemat('UnbalancedDisk-exp-data-Maarten.mat', save_dic)"
   ]
  },
  {
   "cell_type": "code",
   "execution_count": null,
   "metadata": {},
   "outputs": [],
   "source": []
  }
 ],
 "metadata": {
  "kernelspec": {
   "display_name": "Python 3",
   "language": "python",
   "name": "python3"
  },
  "language_info": {
   "codemirror_mode": {
    "name": "ipython",
    "version": 3
   },
   "file_extension": ".py",
   "mimetype": "text/x-python",
   "name": "python",
   "nbconvert_exporter": "python",
   "pygments_lexer": "ipython3",
   "version": "3.8.5"
  }
 },
 "nbformat": 4,
 "nbformat_minor": 5
}
